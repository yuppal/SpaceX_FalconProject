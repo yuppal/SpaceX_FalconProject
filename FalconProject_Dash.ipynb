{
 "cells": [
  {
   "cell_type": "code",
   "execution_count": 15,
   "id": "dcd198bd",
   "metadata": {},
   "outputs": [],
   "source": [
    "# Import required libraries\n",
    "import pandas as pd\n",
    "import dash\n",
    "import dash_html_components as html\n",
    "import dash_core_components as dcc\n",
    "from dash.dependencies import Input, Output\n",
    "import plotly.express as px\n",
    "import requests\n",
    "import numpy as np"
   ]
  },
  {
   "cell_type": "code",
   "execution_count": 11,
   "id": "baa516c8",
   "metadata": {},
   "outputs": [],
   "source": [
    "#download the CSV file\n",
    "\n",
    "URL = 'https://cf-courses-data.s3.us.cloud-object-storage.appdomain.cloud/IBM-DS0321EN-SkillsNetwork/datasets/spacex_launch_geo.csv'\n",
    "\n",
    "def download(url, filename):\n",
    "    response = requests.get(url)\n",
    "    if response.status_code==200:\n",
    "        with open(filename, 'wb') as f:\n",
    "            f.write(response.content)\n",
    "            \n",
    "\n",
    "download(URL,'spacex_csv_file.csv')\n",
    "spacex_df=pd.read_csv('spacex_csv_file.csv')\n"
   ]
  },
  {
   "cell_type": "code",
   "execution_count": 3,
   "id": "86a985cc",
   "metadata": {},
   "outputs": [
    {
     "data": {
      "text/plain": [
       "Index(['Flight Number', 'Date', 'Time (UTC)', 'Booster Version', 'Launch Site',\n",
       "       'Payload', 'Payload Mass (kg)', 'Orbit', 'Customer', 'Landing Outcome',\n",
       "       'class', 'Lat', 'Long'],\n",
       "      dtype='object')"
      ]
     },
     "execution_count": 3,
     "metadata": {},
     "output_type": "execute_result"
    }
   ],
   "source": [
    "spacex_df.columns"
   ]
  },
  {
   "cell_type": "code",
   "execution_count": 14,
   "id": "f221ab55",
   "metadata": {},
   "outputs": [
    {
     "data": {
      "text/plain": [
       "Booster Version\n",
       "F9 B4  B1039.2    0.0\n",
       "F9 B4  B1040.2    0.0\n",
       "F9 B4  B1041.2    0.0\n",
       "F9 B4  B1043.2    0.0\n",
       "F9 B4 B1039.1     1.0\n",
       "F9 B4 B1040.1     1.0\n",
       "F9 B4 B1041.1     1.0\n",
       "F9 B4 B1042.1     1.0\n",
       "F9 B4 B1043.1     1.0\n",
       "F9 B4 B1044       0.0\n",
       "F9 B4 B1045.1     1.0\n",
       "F9 B5  B1046.1    1.0\n",
       "F9 FT  B1021.2    1.0\n",
       "F9 FT  B1029.2    1.0\n",
       "F9 FT  B1031.2    1.0\n",
       "F9 FT  B1032.2    0.0\n",
       "F9 FT  B1035.2    1.0\n",
       "F9 FT  B1036.2    0.0\n",
       "F9 FT  B1038.2    0.0\n",
       "F9 FT B1019       1.0\n",
       "F9 FT B1020       0.0\n",
       "F9 FT B1021.1     1.0\n",
       "F9 FT B1022       1.0\n",
       "F9 FT B1023.1     1.0\n",
       "F9 FT B1024       0.0\n",
       "F9 FT B1025.1     1.0\n",
       "F9 FT B1026       1.0\n",
       "F9 FT B1029.1     1.0\n",
       "F9 FT B1030       0.0\n",
       "F9 FT B1031.1     1.0\n",
       "F9 FT B1032.1     1.0\n",
       "F9 FT B1034       0.0\n",
       "F9 FT B1035.1     1.0\n",
       "F9 FT B1036.1     1.0\n",
       "F9 FT B1037       0.0\n",
       "F9 FT B1038.1     1.0\n",
       "F9 v1.0  B0003    0.0\n",
       "F9 v1.0  B0004    0.0\n",
       "F9 v1.0  B0005    0.0\n",
       "F9 v1.0  B0006    0.0\n",
       "F9 v1.0  B0007    0.0\n",
       "F9 v1.1           0.0\n",
       "F9 v1.1  B1003    0.0\n",
       "F9 v1.1 B1010     0.0\n",
       "F9 v1.1 B1011     0.0\n",
       "F9 v1.1 B1012     0.0\n",
       "F9 v1.1 B1013     0.0\n",
       "F9 v1.1 B1014     0.0\n",
       "F9 v1.1 B1015     0.0\n",
       "F9 v1.1 B1016     0.0\n",
       "F9 v1.1 B1017     0.0\n",
       "F9 v1.1 B1018     1.0\n",
       "Name: class, dtype: float64"
      ]
     },
     "execution_count": 14,
     "metadata": {},
     "output_type": "execute_result"
    }
   ],
   "source": [
    "booster = spacex_df.groupby('Booster Version')['class'].mean()\n",
    "booster"
   ]
  },
  {
   "cell_type": "code",
   "execution_count": 16,
   "id": "860fb9fb",
   "metadata": {},
   "outputs": [],
   "source": [
    "spacex_df['Booster Version Category'] = np.select([spacex_df['Booster Version'].str.contains('B4'),\n",
    "                        spacex_df['Booster Version'].str.contains('B5'),\n",
    "                        spacex_df['Booster Version'].str.contains('FT'),\n",
    "                        spacex_df['Booster Version'].str.contains('v1.0'),\n",
    "                        spacex_df['Booster Version'].str.contains('v1.1')],\n",
    "                       choicelist=['B4', 'B5', 'FT', 'v1.0','v1.1'])"
   ]
  },
  {
   "cell_type": "code",
   "execution_count": 22,
   "id": "e0789131",
   "metadata": {},
   "outputs": [
    {
     "name": "stdout",
     "output_type": "stream",
     "text": [
      "Dash is running on http://127.0.0.1:8050/\n",
      "\n",
      "Dash is running on http://127.0.0.1:8050/\n",
      "\n",
      "Dash is running on http://127.0.0.1:8050/\n",
      "\n",
      "Dash is running on http://127.0.0.1:8050/\n",
      "\n",
      "Dash is running on http://127.0.0.1:8050/\n",
      "\n",
      "Dash is running on http://127.0.0.1:8050/\n",
      "\n",
      "Dash is running on http://127.0.0.1:8050/\n",
      "\n",
      " * Serving Flask app \"__main__\" (lazy loading)\n",
      " * Environment: production\n",
      "\u001b[31m   WARNING: This is a development server. Do not use it in a production deployment.\u001b[0m\n",
      "\u001b[2m   Use a production WSGI server instead.\u001b[0m\n",
      " * Debug mode: off\n"
     ]
    },
    {
     "name": "stderr",
     "output_type": "stream",
     "text": [
      " * Running on http://127.0.0.1:8050/ (Press CTRL+C to quit)\n",
      "127.0.0.1 - - [16/Jun/2023 20:53:36] \"GET / HTTP/1.1\" 200 -\n",
      "127.0.0.1 - - [16/Jun/2023 20:53:36] \"GET /_dash-layout HTTP/1.1\" 200 -\n",
      "127.0.0.1 - - [16/Jun/2023 20:53:36] \"GET /_dash-dependencies HTTP/1.1\" 200 -\n",
      "127.0.0.1 - - [16/Jun/2023 20:53:36] \"GET /_dash-component-suites/dash/dcc/async-dropdown.js HTTP/1.1\" 200 -\n",
      "127.0.0.1 - - [16/Jun/2023 20:53:36] \"GET /_dash-component-suites/dash/dcc/async-plotlyjs.js HTTP/1.1\" 200 -\n",
      "127.0.0.1 - - [16/Jun/2023 20:53:36] \"GET /_dash-component-suites/dash/dcc/async-graph.js HTTP/1.1\" 200 -\n",
      "127.0.0.1 - - [16/Jun/2023 20:53:36] \"GET /_dash-component-suites/dash/dcc/async-slider.js HTTP/1.1\" 200 -\n",
      "127.0.0.1 - - [16/Jun/2023 20:53:36] \"POST /_dash-update-component HTTP/1.1\" 200 -\n",
      "127.0.0.1 - - [16/Jun/2023 20:53:36] \"POST /_dash-update-component HTTP/1.1\" 200 -\n",
      "127.0.0.1 - - [16/Jun/2023 20:53:47] \"POST /_dash-update-component HTTP/1.1\" 200 -\n",
      "127.0.0.1 - - [16/Jun/2023 20:54:01] \"POST /_dash-update-component HTTP/1.1\" 200 -\n",
      "127.0.0.1 - - [16/Jun/2023 20:54:04] \"POST /_dash-update-component HTTP/1.1\" 200 -\n",
      "127.0.0.1 - - [16/Jun/2023 20:54:15] \"POST /_dash-update-component HTTP/1.1\" 200 -\n",
      "127.0.0.1 - - [16/Jun/2023 20:54:19] \"POST /_dash-update-component HTTP/1.1\" 200 -\n"
     ]
    }
   ],
   "source": [
    "# create a dash application\n",
    "app = dash.Dash(__name__)\n",
    "\n",
    "# build dash layout\n",
    "app.layout = html.Div(\n",
    "                        children= \n",
    "                                #Dashboard Heading\n",
    "                                [html.H1('SpaceX Launch Records Dashboard',\n",
    "                                       style={'textalign':'center',\n",
    "                                              'color': '#503D36',\n",
    "                                              'font-size': 20}),\n",
    "                                html.Div([\n",
    "                                        html.Div([\n",
    "                                        #Launch Site dropdown menu\n",
    "                                            dcc.Dropdown(id='site-dropdown',\n",
    "                                                    options=[{'label':'All Sites', 'value':'All'},\n",
    "                                                              {'label':'CCAFS LC-40', 'value':'CCAFS LC-40'},\n",
    "                                                              {'label':'CCAFS SLC-40', 'value':'CCAFS SLC-40'},\n",
    "                                                              {'label':'KSC LC-39A', 'value':'KSC LC-39A'},\n",
    "                                                              {'label':'VAFB SLC-4', 'value':'VAFB SLC-4E'}],\n",
    "                                                    value='All',\n",
    "                                                    placeholder='Select a launch site here',\n",
    "                                                    searchable=True\n",
    "                                                    )\n",
    "                                             ]),\n",
    "                                        #Success Pie Chart\n",
    "                                        html.Div(dcc.Graph(id='success-pie-chart'))\n",
    "                                        ]),\n",
    "                                 \n",
    "                                html.Div([\n",
    "                                        #Payload Range Slider heading\n",
    "                                        html.Div(html.H2('Payload Range (kg)',\n",
    "                                                           style={'textalign':'center',\n",
    "                                                                  'color': '#503D36',\n",
    "                                                                  'font-size': 20}\n",
    "                                                        )\n",
    "                                                ),\n",
    "                                        #Payload Mass range slider\n",
    "                                        html.Div(dcc.RangeSlider(id = 'payload-slider',\n",
    "                                                             min=0, max=10000, step=1000,\n",
    "                                                             marks={2500:'2500',5000:'5000',7500:'7500'},\n",
    "                                                             value=[spacex_df['Payload Mass (kg)'].min(),spacex_df['Payload Mass (kg)'].max()]\n",
    "                                                                )\n",
    "                            \n",
    "                                                ),\n",
    "                                        html.Div(dcc.Graph(id='success-payload-scatter-chart'))\n",
    "                                \n",
    "                                        ])\n",
    "    \n",
    "                                ]\n",
    "                    )\n",
    "\n",
    "\n",
    "\n",
    "@app.callback(Output(component_id='success-pie-chart', component_property='figure'),\n",
    "              Input(component_id='site-dropdown',component_property='value'))\n",
    "\n",
    "def get_pie_chart(entered_site):\n",
    "    \n",
    "    \n",
    "    if entered_site == 'All':\n",
    "        \n",
    "        filtered_df = spacex_df[spacex_df['class']==1]\n",
    "        fig = px.pie(filtered_df, values='class', names='Launch Site', title='Total Number of successful Launches by Site')\n",
    "        fig.update_traces(textinfo='value')\n",
    "        #fig.show()\n",
    "        return fig\n",
    "\n",
    "    else:\n",
    "        filtered_df = spacex_df[spacex_df['Launch Site']==entered_site]\n",
    "        filtered_df=filtered_df.groupby(['Launch Site','class']).size().reset_index(name='class count')\n",
    "        fig=px.pie(filtered_df,values='class count',names='class',title=f\"Launch Success Rate for site: {entered_site}\")        #fig2 = px.scatter(filtered_df, x='Payload Mass (kg)', y='class', color='Booster Version')\n",
    "        return fig\n",
    "    \n",
    "\n",
    "@app.callback(Output(component_id='success-payload-scatter-chart',component_property='figure'),\n",
    "                [Input(component_id='site-dropdown',component_property='value'),\n",
    "                Input(component_id='payload-slider',component_property='value')])\n",
    "\n",
    "def get_scatter_chart(entered_site,payload):\n",
    "    filtered_df = spacex_df[spacex_df['Payload Mass (kg)'].between(payload[0],payload[1])]\n",
    "    if entered_site=='All':\n",
    "        fig=px.scatter(filtered_df,x='Payload Mass (kg)',y='class',color='Booster Version Category',title='Success vs Payload mass for all sites')\n",
    "        return fig\n",
    "    else:\n",
    "        fig=px.scatter(filtered_df[filtered_df['Launch Site']==entered_site],x='Payload Mass (kg)',y='class',color='Booster Version Category',title=f\"Success vs Payload mass for site: {entered_site}\")\n",
    "        return  fig\n",
    "\n",
    "# Run the app\n",
    "if __name__ == '__main__':\n",
    "    app.run_server()"
   ]
  },
  {
   "cell_type": "code",
   "execution_count": null,
   "id": "c85a5354",
   "metadata": {},
   "outputs": [],
   "source": [
    "\n"
   ]
  },
  {
   "cell_type": "code",
   "execution_count": null,
   "id": "fe14a97a",
   "metadata": {},
   "outputs": [],
   "source": []
  }
 ],
 "metadata": {
  "kernelspec": {
   "display_name": "Python 3 (ipykernel)",
   "language": "python",
   "name": "python3"
  },
  "language_info": {
   "codemirror_mode": {
    "name": "ipython",
    "version": 3
   },
   "file_extension": ".py",
   "mimetype": "text/x-python",
   "name": "python",
   "nbconvert_exporter": "python",
   "pygments_lexer": "ipython3",
   "version": "3.9.7"
  }
 },
 "nbformat": 4,
 "nbformat_minor": 5
}
