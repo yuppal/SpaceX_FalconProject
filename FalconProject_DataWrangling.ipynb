{
 "cells": [
  {
   "cell_type": "markdown",
   "id": "b9c4e9b7",
   "metadata": {},
   "source": [
    "# Falcon Data Wrangling"
   ]
  },
  {
   "cell_type": "code",
   "execution_count": 4,
   "id": "0cae6bf8",
   "metadata": {},
   "outputs": [],
   "source": [
    "import pandas as pd\n",
    "\n",
    "# Setting this option will print all collumns of a dataframe\n",
    "pd.set_option('display.max_columns', None)\n",
    "# Setting this option will print all of the data in a feature\n",
    "pd.set_option('display.max_colwidth', None)"
   ]
  },
  {
   "cell_type": "code",
   "execution_count": 5,
   "id": "529ddc10",
   "metadata": {},
   "outputs": [],
   "source": [
    "df_falcon = pd.read_csv('dataset_part_1.csv')"
   ]
  },
  {
   "cell_type": "code",
   "execution_count": 6,
   "id": "6dc677ce",
   "metadata": {},
   "outputs": [
    {
     "data": {
      "text/html": [
       "<div>\n",
       "<style scoped>\n",
       "    .dataframe tbody tr th:only-of-type {\n",
       "        vertical-align: middle;\n",
       "    }\n",
       "\n",
       "    .dataframe tbody tr th {\n",
       "        vertical-align: top;\n",
       "    }\n",
       "\n",
       "    .dataframe thead th {\n",
       "        text-align: right;\n",
       "    }\n",
       "</style>\n",
       "<table border=\"1\" class=\"dataframe\">\n",
       "  <thead>\n",
       "    <tr style=\"text-align: right;\">\n",
       "      <th></th>\n",
       "      <th>FlightNumber</th>\n",
       "      <th>Date</th>\n",
       "      <th>BoosterVersion</th>\n",
       "      <th>PayloadMass</th>\n",
       "      <th>Orbit</th>\n",
       "      <th>LaunchSite</th>\n",
       "      <th>Outcome</th>\n",
       "      <th>Flights</th>\n",
       "      <th>GridFins</th>\n",
       "      <th>Reused</th>\n",
       "      <th>Legs</th>\n",
       "      <th>LandingPad</th>\n",
       "      <th>Block</th>\n",
       "      <th>ReusedCount</th>\n",
       "      <th>Serial</th>\n",
       "      <th>Longitude</th>\n",
       "      <th>Latitude</th>\n",
       "    </tr>\n",
       "  </thead>\n",
       "  <tbody>\n",
       "    <tr>\n",
       "      <th>0</th>\n",
       "      <td>1</td>\n",
       "      <td>2010-06-04</td>\n",
       "      <td>Falcon 9</td>\n",
       "      <td>6123.547647</td>\n",
       "      <td>LEO</td>\n",
       "      <td>CCSFS SLC 40</td>\n",
       "      <td>None None</td>\n",
       "      <td>1</td>\n",
       "      <td>False</td>\n",
       "      <td>False</td>\n",
       "      <td>False</td>\n",
       "      <td>NaN</td>\n",
       "      <td>1.0</td>\n",
       "      <td>0</td>\n",
       "      <td>B0003</td>\n",
       "      <td>-80.577366</td>\n",
       "      <td>28.561857</td>\n",
       "    </tr>\n",
       "    <tr>\n",
       "      <th>1</th>\n",
       "      <td>2</td>\n",
       "      <td>2012-05-22</td>\n",
       "      <td>Falcon 9</td>\n",
       "      <td>525.000000</td>\n",
       "      <td>LEO</td>\n",
       "      <td>CCSFS SLC 40</td>\n",
       "      <td>None None</td>\n",
       "      <td>1</td>\n",
       "      <td>False</td>\n",
       "      <td>False</td>\n",
       "      <td>False</td>\n",
       "      <td>NaN</td>\n",
       "      <td>1.0</td>\n",
       "      <td>0</td>\n",
       "      <td>B0005</td>\n",
       "      <td>-80.577366</td>\n",
       "      <td>28.561857</td>\n",
       "    </tr>\n",
       "    <tr>\n",
       "      <th>2</th>\n",
       "      <td>3</td>\n",
       "      <td>2013-03-01</td>\n",
       "      <td>Falcon 9</td>\n",
       "      <td>677.000000</td>\n",
       "      <td>ISS</td>\n",
       "      <td>CCSFS SLC 40</td>\n",
       "      <td>None None</td>\n",
       "      <td>1</td>\n",
       "      <td>False</td>\n",
       "      <td>False</td>\n",
       "      <td>False</td>\n",
       "      <td>NaN</td>\n",
       "      <td>1.0</td>\n",
       "      <td>0</td>\n",
       "      <td>B0007</td>\n",
       "      <td>-80.577366</td>\n",
       "      <td>28.561857</td>\n",
       "    </tr>\n",
       "    <tr>\n",
       "      <th>3</th>\n",
       "      <td>4</td>\n",
       "      <td>2013-09-29</td>\n",
       "      <td>Falcon 9</td>\n",
       "      <td>500.000000</td>\n",
       "      <td>PO</td>\n",
       "      <td>VAFB SLC 4E</td>\n",
       "      <td>False Ocean</td>\n",
       "      <td>1</td>\n",
       "      <td>False</td>\n",
       "      <td>False</td>\n",
       "      <td>False</td>\n",
       "      <td>NaN</td>\n",
       "      <td>1.0</td>\n",
       "      <td>0</td>\n",
       "      <td>B1003</td>\n",
       "      <td>-120.610829</td>\n",
       "      <td>34.632093</td>\n",
       "    </tr>\n",
       "    <tr>\n",
       "      <th>4</th>\n",
       "      <td>5</td>\n",
       "      <td>2013-12-03</td>\n",
       "      <td>Falcon 9</td>\n",
       "      <td>3170.000000</td>\n",
       "      <td>GTO</td>\n",
       "      <td>CCSFS SLC 40</td>\n",
       "      <td>None None</td>\n",
       "      <td>1</td>\n",
       "      <td>False</td>\n",
       "      <td>False</td>\n",
       "      <td>False</td>\n",
       "      <td>NaN</td>\n",
       "      <td>1.0</td>\n",
       "      <td>0</td>\n",
       "      <td>B1004</td>\n",
       "      <td>-80.577366</td>\n",
       "      <td>28.561857</td>\n",
       "    </tr>\n",
       "  </tbody>\n",
       "</table>\n",
       "</div>"
      ],
      "text/plain": [
       "   FlightNumber        Date BoosterVersion  PayloadMass Orbit    LaunchSite  \\\n",
       "0             1  2010-06-04       Falcon 9  6123.547647   LEO  CCSFS SLC 40   \n",
       "1             2  2012-05-22       Falcon 9   525.000000   LEO  CCSFS SLC 40   \n",
       "2             3  2013-03-01       Falcon 9   677.000000   ISS  CCSFS SLC 40   \n",
       "3             4  2013-09-29       Falcon 9   500.000000    PO   VAFB SLC 4E   \n",
       "4             5  2013-12-03       Falcon 9  3170.000000   GTO  CCSFS SLC 40   \n",
       "\n",
       "       Outcome  Flights  GridFins  Reused   Legs LandingPad  Block  \\\n",
       "0    None None        1     False   False  False        NaN    1.0   \n",
       "1    None None        1     False   False  False        NaN    1.0   \n",
       "2    None None        1     False   False  False        NaN    1.0   \n",
       "3  False Ocean        1     False   False  False        NaN    1.0   \n",
       "4    None None        1     False   False  False        NaN    1.0   \n",
       "\n",
       "   ReusedCount Serial   Longitude   Latitude  \n",
       "0            0  B0003  -80.577366  28.561857  \n",
       "1            0  B0005  -80.577366  28.561857  \n",
       "2            0  B0007  -80.577366  28.561857  \n",
       "3            0  B1003 -120.610829  34.632093  \n",
       "4            0  B1004  -80.577366  28.561857  "
      ]
     },
     "execution_count": 6,
     "metadata": {},
     "output_type": "execute_result"
    }
   ],
   "source": [
    "df_falcon.head()"
   ]
  },
  {
   "cell_type": "code",
   "execution_count": 7,
   "id": "a32dbfe0",
   "metadata": {},
   "outputs": [
    {
     "name": "stdout",
     "output_type": "stream",
     "text": [
      "<class 'pandas.core.frame.DataFrame'>\n",
      "RangeIndex: 90 entries, 0 to 89\n",
      "Data columns (total 17 columns):\n",
      " #   Column          Non-Null Count  Dtype  \n",
      "---  ------          --------------  -----  \n",
      " 0   FlightNumber    90 non-null     int64  \n",
      " 1   Date            90 non-null     object \n",
      " 2   BoosterVersion  90 non-null     object \n",
      " 3   PayloadMass     90 non-null     float64\n",
      " 4   Orbit           90 non-null     object \n",
      " 5   LaunchSite      90 non-null     object \n",
      " 6   Outcome         90 non-null     object \n",
      " 7   Flights         90 non-null     int64  \n",
      " 8   GridFins        90 non-null     bool   \n",
      " 9   Reused          90 non-null     bool   \n",
      " 10  Legs            90 non-null     bool   \n",
      " 11  LandingPad      64 non-null     object \n",
      " 12  Block           90 non-null     float64\n",
      " 13  ReusedCount     90 non-null     int64  \n",
      " 14  Serial          90 non-null     object \n",
      " 15  Longitude       90 non-null     float64\n",
      " 16  Latitude        90 non-null     float64\n",
      "dtypes: bool(3), float64(4), int64(3), object(7)\n",
      "memory usage: 10.2+ KB\n"
     ]
    }
   ],
   "source": [
    "df_falcon.info()"
   ]
  },
  {
   "cell_type": "code",
   "execution_count": 8,
   "id": "359a2f88",
   "metadata": {},
   "outputs": [
    {
     "data": {
      "text/plain": [
       "FlightNumber       0\n",
       "Date               0\n",
       "BoosterVersion     0\n",
       "PayloadMass        0\n",
       "Orbit              0\n",
       "LaunchSite         0\n",
       "Outcome            0\n",
       "Flights            0\n",
       "GridFins           0\n",
       "Reused             0\n",
       "Legs               0\n",
       "LandingPad        26\n",
       "Block              0\n",
       "ReusedCount        0\n",
       "Serial             0\n",
       "Longitude          0\n",
       "Latitude           0\n",
       "dtype: int64"
      ]
     },
     "execution_count": 8,
     "metadata": {},
     "output_type": "execute_result"
    }
   ],
   "source": [
    "#finding out number of missing observations for each column\n",
    "df_falcon.isnull().sum()"
   ]
  },
  {
   "cell_type": "code",
   "execution_count": 9,
   "id": "d0d51d02",
   "metadata": {},
   "outputs": [
    {
     "data": {
      "text/plain": [
       "FlightNumber       0.000000\n",
       "Date               0.000000\n",
       "BoosterVersion     0.000000\n",
       "PayloadMass        0.000000\n",
       "Orbit              0.000000\n",
       "LaunchSite         0.000000\n",
       "Outcome            0.000000\n",
       "Flights            0.000000\n",
       "GridFins           0.000000\n",
       "Reused             0.000000\n",
       "Legs               0.000000\n",
       "LandingPad        28.888889\n",
       "Block              0.000000\n",
       "ReusedCount        0.000000\n",
       "Serial             0.000000\n",
       "Longitude          0.000000\n",
       "Latitude           0.000000\n",
       "dtype: float64"
      ]
     },
     "execution_count": 9,
     "metadata": {},
     "output_type": "execute_result"
    }
   ],
   "source": [
    "#finding out percentage of missing observations for each column\n",
    "(df_falcon.isnull().sum()/df_falcon.shape[0])*100"
   ]
  },
  {
   "cell_type": "code",
   "execution_count": 10,
   "id": "4f13337f",
   "metadata": {},
   "outputs": [
    {
     "data": {
      "text/plain": [
       "FlightNumber        int64\n",
       "Date               object\n",
       "BoosterVersion     object\n",
       "PayloadMass       float64\n",
       "Orbit              object\n",
       "LaunchSite         object\n",
       "Outcome            object\n",
       "Flights             int64\n",
       "GridFins             bool\n",
       "Reused               bool\n",
       "Legs                 bool\n",
       "LandingPad         object\n",
       "Block             float64\n",
       "ReusedCount         int64\n",
       "Serial             object\n",
       "Longitude         float64\n",
       "Latitude          float64\n",
       "dtype: object"
      ]
     },
     "execution_count": 10,
     "metadata": {},
     "output_type": "execute_result"
    }
   ],
   "source": [
    "df_falcon.dtypes"
   ]
  },
  {
   "cell_type": "code",
   "execution_count": 11,
   "id": "716773af",
   "metadata": {},
   "outputs": [
    {
     "data": {
      "text/plain": [
       "CCSFS SLC 40    55\n",
       "KSC LC 39A      22\n",
       "VAFB SLC 4E     13\n",
       "Name: LaunchSite, dtype: int64"
      ]
     },
     "execution_count": 11,
     "metadata": {},
     "output_type": "execute_result"
    }
   ],
   "source": [
    "df_falcon['LaunchSite'].value_counts()"
   ]
  },
  {
   "cell_type": "code",
   "execution_count": 12,
   "id": "69d763ae",
   "metadata": {},
   "outputs": [
    {
     "data": {
      "text/plain": [
       "GTO      27\n",
       "ISS      21\n",
       "VLEO     14\n",
       "PO        9\n",
       "LEO       7\n",
       "SSO       5\n",
       "MEO       3\n",
       "ES-L1     1\n",
       "HEO       1\n",
       "SO        1\n",
       "GEO       1\n",
       "Name: Orbit, dtype: int64"
      ]
     },
     "execution_count": 12,
     "metadata": {},
     "output_type": "execute_result"
    }
   ],
   "source": [
    "df_falcon['Orbit'].value_counts()"
   ]
  },
  {
   "cell_type": "code",
   "execution_count": 23,
   "id": "3f80e5f6",
   "metadata": {},
   "outputs": [
    {
     "data": {
      "text/plain": [
       "True ASDS      41\n",
       "None None      19\n",
       "True RTLS      14\n",
       "False ASDS      6\n",
       "True Ocean      5\n",
       "False Ocean     2\n",
       "None ASDS       2\n",
       "False RTLS      1\n",
       "Name: Outcome, dtype: int64"
      ]
     },
     "execution_count": 23,
     "metadata": {},
     "output_type": "execute_result"
    }
   ],
   "source": [
    "landing_outcomes = df_falcon['Outcome'].value_counts()\n",
    "landing_outcomes"
   ]
  },
  {
   "cell_type": "code",
   "execution_count": 14,
   "id": "e2c48e8d",
   "metadata": {},
   "outputs": [
    {
     "name": "stdout",
     "output_type": "stream",
     "text": [
      "0 41\n",
      "1 19\n",
      "2 14\n",
      "3 6\n",
      "4 5\n",
      "5 2\n",
      "6 2\n",
      "7 1\n"
     ]
    }
   ],
   "source": [
    "for i,outcome in enumerate(landing_outcomes):\n",
    "    print(i,outcome)"
   ]
  },
  {
   "cell_type": "code",
   "execution_count": 15,
   "id": "7be893aa",
   "metadata": {},
   "outputs": [
    {
     "data": {
      "text/plain": [
       "Index(['True ASDS', 'None None', 'True RTLS', 'False ASDS', 'True Ocean',\n",
       "       'False Ocean', 'None ASDS', 'False RTLS'],\n",
       "      dtype='object')"
      ]
     },
     "execution_count": 15,
     "metadata": {},
     "output_type": "execute_result"
    }
   ],
   "source": [
    "outcomes = landing_outcomes.keys()\n",
    "outcomes"
   ]
  },
  {
   "cell_type": "code",
   "execution_count": 16,
   "id": "051c21c7",
   "metadata": {},
   "outputs": [
    {
     "data": {
      "text/plain": [
       "{'False ASDS', 'False Ocean', 'False RTLS', 'None ASDS', 'None None'}"
      ]
     },
     "execution_count": 16,
     "metadata": {},
     "output_type": "execute_result"
    }
   ],
   "source": [
    "#identifying the outcomes where the second didnt land successfully\n",
    "bad_outcomes=set(outcomes[[1,3,5,6,7]])\n",
    "bad_outcomes"
   ]
  },
  {
   "cell_type": "code",
   "execution_count": 17,
   "id": "df121047",
   "metadata": {},
   "outputs": [],
   "source": [
    "df_falcon['class'] = (df_falcon['Outcome'].apply(lambda x: x not in bad_outcomes))\n",
    "\n"
   ]
  },
  {
   "cell_type": "code",
   "execution_count": 18,
   "id": "e0dc0ea9",
   "metadata": {},
   "outputs": [
    {
     "data": {
      "text/html": [
       "<div>\n",
       "<style scoped>\n",
       "    .dataframe tbody tr th:only-of-type {\n",
       "        vertical-align: middle;\n",
       "    }\n",
       "\n",
       "    .dataframe tbody tr th {\n",
       "        vertical-align: top;\n",
       "    }\n",
       "\n",
       "    .dataframe thead th {\n",
       "        text-align: right;\n",
       "    }\n",
       "</style>\n",
       "<table border=\"1\" class=\"dataframe\">\n",
       "  <thead>\n",
       "    <tr style=\"text-align: right;\">\n",
       "      <th></th>\n",
       "      <th>class</th>\n",
       "    </tr>\n",
       "  </thead>\n",
       "  <tbody>\n",
       "    <tr>\n",
       "      <th>0</th>\n",
       "      <td>False</td>\n",
       "    </tr>\n",
       "    <tr>\n",
       "      <th>1</th>\n",
       "      <td>False</td>\n",
       "    </tr>\n",
       "    <tr>\n",
       "      <th>2</th>\n",
       "      <td>False</td>\n",
       "    </tr>\n",
       "    <tr>\n",
       "      <th>3</th>\n",
       "      <td>False</td>\n",
       "    </tr>\n",
       "    <tr>\n",
       "      <th>4</th>\n",
       "      <td>False</td>\n",
       "    </tr>\n",
       "    <tr>\n",
       "      <th>5</th>\n",
       "      <td>False</td>\n",
       "    </tr>\n",
       "    <tr>\n",
       "      <th>6</th>\n",
       "      <td>True</td>\n",
       "    </tr>\n",
       "    <tr>\n",
       "      <th>7</th>\n",
       "      <td>True</td>\n",
       "    </tr>\n",
       "    <tr>\n",
       "      <th>8</th>\n",
       "      <td>False</td>\n",
       "    </tr>\n",
       "    <tr>\n",
       "      <th>9</th>\n",
       "      <td>False</td>\n",
       "    </tr>\n",
       "    <tr>\n",
       "      <th>10</th>\n",
       "      <td>False</td>\n",
       "    </tr>\n",
       "    <tr>\n",
       "      <th>11</th>\n",
       "      <td>False</td>\n",
       "    </tr>\n",
       "    <tr>\n",
       "      <th>12</th>\n",
       "      <td>True</td>\n",
       "    </tr>\n",
       "    <tr>\n",
       "      <th>13</th>\n",
       "      <td>False</td>\n",
       "    </tr>\n",
       "    <tr>\n",
       "      <th>14</th>\n",
       "      <td>False</td>\n",
       "    </tr>\n",
       "  </tbody>\n",
       "</table>\n",
       "</div>"
      ],
      "text/plain": [
       "    class\n",
       "0   False\n",
       "1   False\n",
       "2   False\n",
       "3   False\n",
       "4   False\n",
       "5   False\n",
       "6    True\n",
       "7    True\n",
       "8   False\n",
       "9   False\n",
       "10  False\n",
       "11  False\n",
       "12   True\n",
       "13  False\n",
       "14  False"
      ]
     },
     "execution_count": 18,
     "metadata": {},
     "output_type": "execute_result"
    }
   ],
   "source": [
    "df_falcon[['class']].head(15)"
   ]
  },
  {
   "cell_type": "code",
   "execution_count": 19,
   "id": "b9712fe4",
   "metadata": {},
   "outputs": [
    {
     "data": {
      "text/plain": [
       "0.6666666666666666"
      ]
     },
     "execution_count": 19,
     "metadata": {},
     "output_type": "execute_result"
    }
   ],
   "source": [
    "df_falcon['class'].mean()"
   ]
  },
  {
   "cell_type": "code",
   "execution_count": 20,
   "id": "80f5edde",
   "metadata": {},
   "outputs": [],
   "source": [
    "df_falcon.to_csv(\"dataset_part_2.csv\", index=False)"
   ]
  },
  {
   "cell_type": "code",
   "execution_count": null,
   "id": "67d14d21",
   "metadata": {},
   "outputs": [],
   "source": []
  }
 ],
 "metadata": {
  "kernelspec": {
   "display_name": "Python 3 (ipykernel)",
   "language": "python",
   "name": "python3"
  },
  "language_info": {
   "codemirror_mode": {
    "name": "ipython",
    "version": 3
   },
   "file_extension": ".py",
   "mimetype": "text/x-python",
   "name": "python",
   "nbconvert_exporter": "python",
   "pygments_lexer": "ipython3",
   "version": "3.9.7"
  }
 },
 "nbformat": 4,
 "nbformat_minor": 5
}
